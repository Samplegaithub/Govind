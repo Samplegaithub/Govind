{
  "nbformat": 4,
  "nbformat_minor": 0,
  "metadata": {
    "colab": {
      "provenance": []
    },
    "kernelspec": {
      "name": "python3",
      "display_name": "Python 3"
    },
    "language_info": {
      "name": "python"
    }
  },
  "cells": [
    {
      "cell_type": "code",
      "execution_count": null,
      "metadata": {
        "id": "zkzc4zJCbEDh"
      },
      "outputs": [],
      "source": []
    },
    {
      "cell_type": "markdown",
      "source": [
        "Task 2: Lookalike Model\n",
        "# Build a Lookalike Model that takes a user's information as input and recommends 3 similar **bold text**"
      ],
      "metadata": {
        "id": "4TAx6zRi8Lcs"
      }
    },
    {
      "cell_type": "code",
      "source": [
        "# Merge transactions with customer and product data\n",
        "merged_data = pd.merge(Transactions, customer, on='CustomerID', how='inner')\n",
        "merged_data = pd.merge(merged_data, Products, on='ProductID', how='inner')"
      ],
      "metadata": {
        "id": "_w6x-7fy6_Dk"
      },
      "execution_count": null,
      "outputs": []
    },
    {
      "cell_type": "markdown",
      "source": [
        "**Feature Engineering: Create features based on customer profiles and transaction"
      ],
      "metadata": {
        "id": "-TqP2sUQ8xgp"
      }
    },
    {
      "cell_type": "code",
      "source": [
        "# Example feature: Total spend\n",
        "customer_features = merged_data.groupby('CustomerID').agg({\n",
        "    'TotalValue': 'sum',\n",
        "    'Quantity': 'sum',\n",
        "    'Category': lambda x: x.mode()[0],  # Most purchased category\n",
        "    'Region': 'first'  # Region from customer profile\n",
        "}).reset_index()\n"
      ],
      "metadata": {
        "id": "x8PeG5oi8fhy"
      },
      "execution_count": null,
      "outputs": []
    },
    {
      "cell_type": "markdown",
      "source": [
        "Normalize Features: Normalize numerical features to ensure comparability."
      ],
      "metadata": {
        "id": "dnj5sBy49ZcS"
      }
    },
    {
      "cell_type": "code",
      "source": [
        "from sklearn.preprocessing import MinMaxScaler\n",
        "\n",
        "scaler = MinMaxScaler()\n",
        "customer_features[['TotalValue', 'Quantity']] = scaler.fit_transform(\n",
        "    customer_features[['TotalValue', 'Quantity']]\n",
        ")"
      ],
      "metadata": {
        "id": "y1IMIllD9T8K"
      },
      "execution_count": null,
      "outputs": []
    },
    {
      "cell_type": "markdown",
      "source": [
        "Build the Similarity Model\n",
        "Calculate Similarity: Use cosine similarity to find similar customers based on their profiles and transaction features."
      ],
      "metadata": {
        "id": "tlbe5629_KkL"
      }
    },
    {
      "cell_type": "code",
      "source": [
        "from sklearn.metrics.pairwise import cosine_similarity\n",
        "\n",
        "# Compute similarity matrix\n",
        "feature_matrix = customer_features[['TotalValue', 'Quantity']]\n",
        "similarity_matrix = cosine_similarity(feature_matrix)\n",
        "\n",
        "# Create a DataFrame for easy interpretation\n",
        "similarity_df = pd.DataFrame(similarity_matrix, index=customer_features['CustomerID'], columns=customer_features['CustomerID'])\n"
      ],
      "metadata": {
        "id": "kyU7eWII_NAJ"
      },
      "execution_count": null,
      "outputs": []
    },
    {
      "cell_type": "markdown",
      "source": [
        "Find Top 3 Lookalikes: For each customer (C0001–C0020), find the top 3 similar customers.\n",
        "\n",
        "python\n",
        "Copy\n",
        "Edit\n"
      ],
      "metadata": {
        "id": "TDNQDEF7-mMt"
      }
    },
    {
      "cell_type": "code",
      "source": [
        "lookalike_results = {}\n",
        "\n",
        "for customer_id in customer_features['CustomerID'][:20]:  # First 20 customers\n",
        "    similar_customer = similarity_df[customer_id].sort_values(ascending=False)[1:4]\n",
        "    lookalike_results[customer_id] = list(zip(similar_customer.index, similar_customer.values))\n",
        "\n",
        "# Convert results to a DataFrame\n",
        "lookalike_df = pd.DataFrame({\n",
        "    'cust_id': lookalike_results.keys(),\n",
        "    'lookalikes': [str(v) for v in lookalike_results.values()]\n",
        "})\n",
        "\n",
        "# Save to CSV\n",
        "lookalike_df.to_csv(\"FirstName_LastName_Lookalike.csv\", index=False)\n"
      ],
      "metadata": {
        "id": "Jd72VT97-o_-"
      },
      "execution_count": null,
      "outputs": []
    },
    {
      "cell_type": "code",
      "source": [
        "\n",
        "# Aggregate transaction data by CustomerID\n",
        "Transaction_summary = Transactions.groupby('CustomerID').agg({\n",
        "    'TotalValue': 'sum',\n",
        "    'Quantity': 'sum',\n",
        "    'TransactionID': 'count'\n",
        "}).rename(columns={'TransactionID': 'TransactionCount'}).reset_index()\n",
        "\n",
        "# Merge with customer data\n",
        "customer_data = pd.merge(customer, Transaction_summary, on='CustomerID', how='inner')"
      ],
      "metadata": {
        "id": "kQaFPYyx_eCe"
      },
      "execution_count": null,
      "outputs": []
    },
    {
      "cell_type": "code",
      "source": [
        "# One-hot encode 'Region'\n",
        "customer_data = pd.get_dummies(customer_data, columns=['Region'], drop_first=True)\n",
        "\n",
        "# Normalize numerical features\n",
        "from sklearn.preprocessing import MinMaxScaler\n",
        "scaler = MinMaxScaler()\n",
        "features = ['TotalValue', 'Quantity', 'TransactionCount']\n",
        "customer_data[features] = scaler.fit_transform(customer_data[features])\n"
      ],
      "metadata": {
        "id": "Gtl6DO5oAUNa"
      },
      "execution_count": null,
      "outputs": []
    }
  ]
}